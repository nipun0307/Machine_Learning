{
  "nbformat": 4,
  "nbformat_minor": 2,
  "metadata": {
    "colab": {
      "name": "artificial_neural_network.ipynb",
      "provenance": [],
      "collapsed_sections": [],
      "toc_visible": true
    },
    "kernelspec": {
      "name": "python3",
      "display_name": "Python 3.9.1 64-bit"
    },
    "language_info": {
      "name": "python",
      "version": "3.9.1",
      "mimetype": "text/x-python",
      "codemirror_mode": {
        "name": "ipython",
        "version": 3
      },
      "pygments_lexer": "ipython3",
      "nbconvert_exporter": "python",
      "file_extension": ".py"
    },
    "interpreter": {
      "hash": "aee8b7b246df8f9039afb4144a1f6fd8d2ca17a180786b69acc140d282b71a49"
    }
  },
  "cells": [
    {
      "cell_type": "markdown",
      "source": [
        "# Artificial Neural Network"
      ],
      "metadata": {
        "id": "lP6JLo1tGNBg",
        "colab_type": "text"
      }
    },
    {
      "cell_type": "markdown",
      "source": [
        "### Importing the libraries"
      ],
      "metadata": {
        "id": "gWZyYmS_UE_L",
        "colab_type": "text"
      }
    },
    {
      "cell_type": "code",
      "execution_count": 27,
      "source": [
        "import numpy as np\n",
        "import pandas as pd\n",
        "import tensorflow as tf"
      ],
      "outputs": [],
      "metadata": {
        "id": "MxkJoQBkUIHC",
        "colab_type": "code",
        "colab": {}
      }
    },
    {
      "cell_type": "code",
      "execution_count": 28,
      "source": [
        "tf.__version__"
      ],
      "outputs": [
        {
          "output_type": "execute_result",
          "data": {
            "text/plain": [
              "'2.5.0'"
            ]
          },
          "metadata": {},
          "execution_count": 28
        }
      ],
      "metadata": {
        "id": "ZaTwK7ojXr2F",
        "colab_type": "code",
        "outputId": "0b27a96d-d11a-43e8-ab4b-87c1f01896fe",
        "colab": {
          "base_uri": "https://localhost:8080/",
          "height": 34
        }
      }
    },
    {
      "cell_type": "markdown",
      "source": [
        "## Part 1 - Data Preprocessing"
      ],
      "metadata": {
        "id": "1E0Q3aoKUCRX",
        "colab_type": "text"
      }
    },
    {
      "cell_type": "markdown",
      "source": [
        "### Importing the dataset"
      ],
      "metadata": {
        "id": "cKWAkFVGUU0Z",
        "colab_type": "text"
      }
    },
    {
      "cell_type": "code",
      "execution_count": 29,
      "source": [
        "dataset=pd.read_csv('Churn_Modelling.csv')\n",
        "X=dataset.iloc[:, 3:-1].values\n",
        "y=dataset.iloc[:, -1].values"
      ],
      "outputs": [],
      "metadata": {
        "id": "MXUkhkMfU4wq",
        "colab_type": "code",
        "colab": {}
      }
    },
    {
      "cell_type": "code",
      "execution_count": 30,
      "source": [
        "print(X)"
      ],
      "outputs": [
        {
          "output_type": "stream",
          "name": "stdout",
          "text": [
            "[[619 'France' 'Female' ... 1 1 101348.88]\n",
            " [608 'Spain' 'Female' ... 0 1 112542.58]\n",
            " [502 'France' 'Female' ... 1 0 113931.57]\n",
            " ...\n",
            " [709 'France' 'Female' ... 0 1 42085.58]\n",
            " [772 'Germany' 'Male' ... 1 0 92888.52]\n",
            " [792 'France' 'Female' ... 1 0 38190.78]]\n"
          ]
        }
      ],
      "metadata": {
        "id": "VYP9cQTWbzuI",
        "colab_type": "code",
        "outputId": "797e7a64-9bac-436a-8c9c-94437e5e7587",
        "colab": {
          "base_uri": "https://localhost:8080/",
          "height": 137
        }
      }
    },
    {
      "cell_type": "code",
      "execution_count": 31,
      "source": [
        "print(y)"
      ],
      "outputs": [
        {
          "output_type": "stream",
          "name": "stdout",
          "text": [
            "[1 0 1 ... 1 1 0]\n"
          ]
        }
      ],
      "metadata": {
        "id": "38vKGE6Nb2RR",
        "colab_type": "code",
        "outputId": "a815e42a-e0dd-4cb5-ab97-b17ead98fbc3",
        "colab": {
          "base_uri": "https://localhost:8080/",
          "height": 34
        }
      }
    },
    {
      "cell_type": "markdown",
      "source": [
        "### Encoding categorical data"
      ],
      "metadata": {
        "id": "N6bQ0UgSU-NJ",
        "colab_type": "text"
      }
    },
    {
      "cell_type": "markdown",
      "source": [
        "Label Encoding the \"Gender\" column"
      ],
      "metadata": {
        "id": "le5MJreAbW52",
        "colab_type": "text"
      }
    },
    {
      "cell_type": "code",
      "execution_count": 32,
      "source": [
        "from sklearn.preprocessing import LabelEncoder\n",
        "lb=LabelEncoder()\n",
        "lb.fit(X[:,2])\n",
        "X[:,2]=lb.transform(X[:,2])"
      ],
      "outputs": [],
      "metadata": {
        "id": "PxVKWXxLbczC",
        "colab_type": "code",
        "colab": {}
      }
    },
    {
      "cell_type": "code",
      "execution_count": 33,
      "source": [
        "print(X)"
      ],
      "outputs": [
        {
          "output_type": "stream",
          "name": "stdout",
          "text": [
            "[[619 'France' 0 ... 1 1 101348.88]\n",
            " [608 'Spain' 0 ... 0 1 112542.58]\n",
            " [502 'France' 0 ... 1 0 113931.57]\n",
            " ...\n",
            " [709 'France' 0 ... 0 1 42085.58]\n",
            " [772 'Germany' 1 ... 1 0 92888.52]\n",
            " [792 'France' 0 ... 1 0 38190.78]]\n"
          ]
        }
      ],
      "metadata": {
        "id": "-M1KboxFb6OO",
        "colab_type": "code",
        "outputId": "e2b8c7e8-0cbc-4cdf-f4eb-7f0853a00b88",
        "colab": {
          "base_uri": "https://localhost:8080/",
          "height": 137
        }
      }
    },
    {
      "cell_type": "markdown",
      "source": [
        "One Hot Encoding the \"Geography\" column"
      ],
      "metadata": {
        "id": "CUxGZezpbMcb",
        "colab_type": "text"
      }
    },
    {
      "cell_type": "code",
      "execution_count": 34,
      "source": [
        "from sklearn.compose import ColumnTransformer\n",
        "from sklearn.preprocessing import OneHotEncoder\n",
        "ct = ColumnTransformer(transformers=[('encoder', OneHotEncoder(), [1])], remainder='passthrough')\n",
        "X = np.array(ct.fit_transform(X))"
      ],
      "outputs": [],
      "metadata": {
        "id": "AMXC8-KMVirw",
        "colab_type": "code",
        "colab": {}
      }
    },
    {
      "cell_type": "code",
      "execution_count": 35,
      "source": [
        "print(X)"
      ],
      "outputs": [
        {
          "output_type": "stream",
          "name": "stdout",
          "text": [
            "[[1.0 0.0 0.0 ... 1 1 101348.88]\n",
            " [0.0 0.0 1.0 ... 0 1 112542.58]\n",
            " [1.0 0.0 0.0 ... 1 0 113931.57]\n",
            " ...\n",
            " [1.0 0.0 0.0 ... 0 1 42085.58]\n",
            " [0.0 1.0 0.0 ... 1 0 92888.52]\n",
            " [1.0 0.0 0.0 ... 1 0 38190.78]]\n"
          ]
        }
      ],
      "metadata": {
        "id": "ZcxwEon-b8nV",
        "colab_type": "code",
        "outputId": "23a98af4-5e33-4b26-c27b-f06e3c5d2baf",
        "colab": {
          "base_uri": "https://localhost:8080/",
          "height": 137
        }
      }
    },
    {
      "cell_type": "markdown",
      "source": [
        "### Splitting the dataset into the Training set and Test set"
      ],
      "metadata": {
        "id": "vHol938cW8zd",
        "colab_type": "text"
      }
    },
    {
      "cell_type": "code",
      "execution_count": 36,
      "source": [
        "from sklearn.model_selection import train_test_split\n",
        "X_train, X_test, y_train, y_test = train_test_split(X,y,test_size=0.2, random_state=0)\n",
        "\n",
        "# from sklearn.model_selection import train_test_split\n",
        "# X_train, X_test, y_train, y_test = train_test_split(X, y, test_size = 0.2, random_state = 0)"
      ],
      "outputs": [],
      "metadata": {
        "id": "Z-TDt0Y_XEfc",
        "colab_type": "code",
        "colab": {}
      }
    },
    {
      "cell_type": "markdown",
      "source": [
        "### Feature Scaling"
      ],
      "metadata": {
        "id": "RE_FcHyfV3TQ",
        "colab_type": "text"
      }
    },
    {
      "cell_type": "code",
      "execution_count": 37,
      "source": [
        "from sklearn.preprocessing import StandardScaler\n",
        "sc = StandardScaler()\n",
        "X_train = sc.fit_transform(X_train)\n",
        "X_test = sc.transform(X_test)"
      ],
      "outputs": [],
      "metadata": {
        "id": "ViCrE00rV8Sk",
        "colab_type": "code",
        "colab": {}
      }
    },
    {
      "cell_type": "markdown",
      "source": [
        "## Part 2 - Building the ANN"
      ],
      "metadata": {
        "id": "-zfEzkRVXIwF",
        "colab_type": "text"
      }
    },
    {
      "cell_type": "markdown",
      "source": [
        "### Initializing the ANN"
      ],
      "metadata": {
        "id": "KvdeScabXtlB",
        "colab_type": "text"
      }
    },
    {
      "cell_type": "code",
      "execution_count": 38,
      "source": [
        "# ann = tf.keras.models.Sequential()\n",
        "ANN=tf.keras.models.Sequential()"
      ],
      "outputs": [],
      "metadata": {
        "id": "3dtrScHxXQox",
        "colab_type": "code",
        "colab": {}
      }
    },
    {
      "cell_type": "markdown",
      "source": [
        "### Adding the input layer and the first hidden layer"
      ],
      "metadata": {
        "id": "rP6urV6SX7kS",
        "colab_type": "text"
      }
    },
    {
      "cell_type": "code",
      "execution_count": 39,
      "source": [
        "# ann.add(tf.keras.layers.Dense(units=6, activation='relu'))\n",
        "# Adding a layer\n",
        "ANN.add(tf.keras.layers.Dense(units=7, activation='relu'))"
      ],
      "outputs": [],
      "metadata": {
        "id": "bppGycBXYCQr",
        "colab_type": "code",
        "colab": {}
      }
    },
    {
      "cell_type": "markdown",
      "source": [
        "### Adding the second hidden layer"
      ],
      "metadata": {
        "id": "BELWAc_8YJze",
        "colab_type": "text"
      }
    },
    {
      "cell_type": "code",
      "execution_count": 40,
      "source": [
        "ANN.add(tf.keras.layers.Dense(units=7, activation='relu'))"
      ],
      "outputs": [],
      "metadata": {
        "id": "JneR0u0sYRTd",
        "colab_type": "code",
        "colab": {}
      }
    },
    {
      "cell_type": "markdown",
      "source": [
        "### Adding the output layer"
      ],
      "metadata": {
        "id": "OyNEe6RXYcU4",
        "colab_type": "text"
      }
    },
    {
      "cell_type": "code",
      "execution_count": 41,
      "source": [
        "ANN.add(tf.keras.layers.Dense(units=1, activation='sigmoid'))"
      ],
      "outputs": [],
      "metadata": {
        "id": "Cn3x41RBYfvY",
        "colab_type": "code",
        "colab": {}
      }
    },
    {
      "cell_type": "markdown",
      "source": [
        "## Part 3 - Training the ANN"
      ],
      "metadata": {
        "id": "JT4u2S1_Y4WG",
        "colab_type": "text"
      }
    },
    {
      "cell_type": "markdown",
      "source": [
        "### Compiling the ANN"
      ],
      "metadata": {
        "id": "8GWlJChhY_ZI",
        "colab_type": "text"
      }
    },
    {
      "cell_type": "code",
      "execution_count": 42,
      "source": [
        "# ann.compile(optimizer = 'adam', loss = 'binary_crossentropy', metrics = ['accuracy'])\n",
        "ANN.compile(optimizer='adam', loss='binary_crossentropy', metrics=['accuracy'])"
      ],
      "outputs": [],
      "metadata": {
        "id": "fG3RrwDXZEaS",
        "colab_type": "code",
        "colab": {}
      }
    },
    {
      "cell_type": "markdown",
      "source": [
        "### Training the ANN on the Training set"
      ],
      "metadata": {
        "id": "0QR_G5u7ZLSM",
        "colab_type": "text"
      }
    },
    {
      "cell_type": "code",
      "execution_count": 43,
      "source": [
        "# ann.fit(X_train, y_train, batch_size = 32, epochs = 100)\n",
        "ANN.fit(X_train, y_train, batch_size=32, epochs=100)"
      ],
      "outputs": [
        {
          "output_type": "stream",
          "name": "stdout",
          "text": [
            "Epoch 1/100\n",
            "250/250 [==============================] - 0s 600us/step - loss: 0.4977 - accuracy: 0.7960\n",
            "Epoch 2/100\n",
            "250/250 [==============================] - 0s 895us/step - loss: 0.4608 - accuracy: 0.7959\n",
            "Epoch 3/100\n",
            "250/250 [==============================] - 0s 642us/step - loss: 0.4451 - accuracy: 0.7971\n",
            "Epoch 4/100\n",
            "250/250 [==============================] - 0s 588us/step - loss: 0.4363 - accuracy: 0.8029\n",
            "Epoch 5/100\n",
            "250/250 [==============================] - 0s 634us/step - loss: 0.4307 - accuracy: 0.8051\n",
            "Epoch 6/100\n",
            "250/250 [==============================] - 0s 636us/step - loss: 0.4266 - accuracy: 0.8109\n",
            "Epoch 7/100\n",
            "250/250 [==============================] - 0s 666us/step - loss: 0.4230 - accuracy: 0.8169\n",
            "Epoch 8/100\n",
            "250/250 [==============================] - 0s 647us/step - loss: 0.4192 - accuracy: 0.8210\n",
            "Epoch 9/100\n",
            "250/250 [==============================] - 0s 636us/step - loss: 0.4150 - accuracy: 0.8239\n",
            "Epoch 10/100\n",
            "250/250 [==============================] - 0s 581us/step - loss: 0.4110 - accuracy: 0.8251\n",
            "Epoch 11/100\n",
            "250/250 [==============================] - 0s 578us/step - loss: 0.4062 - accuracy: 0.8265\n",
            "Epoch 12/100\n",
            "250/250 [==============================] - 0s 638us/step - loss: 0.4017 - accuracy: 0.8299\n",
            "Epoch 13/100\n",
            "250/250 [==============================] - 0s 639us/step - loss: 0.3977 - accuracy: 0.8310\n",
            "Epoch 14/100\n",
            "250/250 [==============================] - 0s 625us/step - loss: 0.3936 - accuracy: 0.8322\n",
            "Epoch 15/100\n",
            "250/250 [==============================] - 0s 667us/step - loss: 0.3892 - accuracy: 0.8346\n",
            "Epoch 16/100\n",
            "250/250 [==============================] - 0s 675us/step - loss: 0.3847 - accuracy: 0.8364\n",
            "Epoch 17/100\n",
            "250/250 [==============================] - 0s 740us/step - loss: 0.3793 - accuracy: 0.8420\n",
            "Epoch 18/100\n",
            "250/250 [==============================] - 0s 601us/step - loss: 0.3736 - accuracy: 0.8454\n",
            "Epoch 19/100\n",
            "250/250 [==============================] - 0s 636us/step - loss: 0.3682 - accuracy: 0.8486\n",
            "Epoch 20/100\n",
            "250/250 [==============================] - 0s 634us/step - loss: 0.3627 - accuracy: 0.8529\n",
            "Epoch 21/100\n",
            "250/250 [==============================] - 0s 656us/step - loss: 0.3580 - accuracy: 0.8551\n",
            "Epoch 22/100\n",
            "250/250 [==============================] - 0s 656us/step - loss: 0.3543 - accuracy: 0.8554\n",
            "Epoch 23/100\n",
            "250/250 [==============================] - 0s 627us/step - loss: 0.3517 - accuracy: 0.8565\n",
            "Epoch 24/100\n",
            "250/250 [==============================] - 0s 593us/step - loss: 0.3499 - accuracy: 0.8589\n",
            "Epoch 25/100\n",
            "250/250 [==============================] - 0s 624us/step - loss: 0.3484 - accuracy: 0.8591\n",
            "Epoch 26/100\n",
            "250/250 [==============================] - 0s 654us/step - loss: 0.3466 - accuracy: 0.8599\n",
            "Epoch 27/100\n",
            "250/250 [==============================] - 0s 602us/step - loss: 0.3460 - accuracy: 0.8604\n",
            "Epoch 28/100\n",
            "250/250 [==============================] - 0s 584us/step - loss: 0.3448 - accuracy: 0.8608\n",
            "Epoch 29/100\n",
            "250/250 [==============================] - 0s 594us/step - loss: 0.3445 - accuracy: 0.8604\n",
            "Epoch 30/100\n",
            "250/250 [==============================] - 0s 579us/step - loss: 0.3437 - accuracy: 0.8624\n",
            "Epoch 31/100\n",
            "250/250 [==============================] - 0s 606us/step - loss: 0.3433 - accuracy: 0.8597\n",
            "Epoch 32/100\n",
            "250/250 [==============================] - 0s 586us/step - loss: 0.3430 - accuracy: 0.8612\n",
            "Epoch 33/100\n",
            "250/250 [==============================] - 0s 587us/step - loss: 0.3422 - accuracy: 0.8627\n",
            "Epoch 34/100\n",
            "250/250 [==============================] - 0s 597us/step - loss: 0.3414 - accuracy: 0.8633\n",
            "Epoch 35/100\n",
            "250/250 [==============================] - 0s 657us/step - loss: 0.3414 - accuracy: 0.8630\n",
            "Epoch 36/100\n",
            "250/250 [==============================] - 0s 670us/step - loss: 0.3401 - accuracy: 0.8629\n",
            "Epoch 37/100\n",
            "250/250 [==============================] - 0s 658us/step - loss: 0.3401 - accuracy: 0.8629\n",
            "Epoch 38/100\n",
            "250/250 [==============================] - 0s 626us/step - loss: 0.3398 - accuracy: 0.8626\n",
            "Epoch 39/100\n",
            "250/250 [==============================] - 0s 668us/step - loss: 0.3391 - accuracy: 0.8621\n",
            "Epoch 40/100\n",
            "250/250 [==============================] - 0s 695us/step - loss: 0.3392 - accuracy: 0.8624\n",
            "Epoch 41/100\n",
            "250/250 [==============================] - 0s 632us/step - loss: 0.3389 - accuracy: 0.8606\n",
            "Epoch 42/100\n",
            "250/250 [==============================] - 0s 650us/step - loss: 0.3386 - accuracy: 0.8633\n",
            "Epoch 43/100\n",
            "250/250 [==============================] - 0s 611us/step - loss: 0.3384 - accuracy: 0.8636\n",
            "Epoch 44/100\n",
            "250/250 [==============================] - 0s 599us/step - loss: 0.3383 - accuracy: 0.8641\n",
            "Epoch 45/100\n",
            "250/250 [==============================] - 0s 612us/step - loss: 0.3380 - accuracy: 0.8640\n",
            "Epoch 46/100\n",
            "250/250 [==============================] - 0s 590us/step - loss: 0.3378 - accuracy: 0.8624\n",
            "Epoch 47/100\n",
            "250/250 [==============================] - 0s 583us/step - loss: 0.3374 - accuracy: 0.8600\n",
            "Epoch 48/100\n",
            "250/250 [==============================] - 0s 586us/step - loss: 0.3375 - accuracy: 0.8634\n",
            "Epoch 49/100\n",
            "250/250 [==============================] - 0s 582us/step - loss: 0.3371 - accuracy: 0.8631\n",
            "Epoch 50/100\n",
            "250/250 [==============================] - 0s 621us/step - loss: 0.3372 - accuracy: 0.8619\n",
            "Epoch 51/100\n",
            "250/250 [==============================] - 0s 614us/step - loss: 0.3368 - accuracy: 0.8616\n",
            "Epoch 52/100\n",
            "250/250 [==============================] - 0s 594us/step - loss: 0.3365 - accuracy: 0.8630\n",
            "Epoch 53/100\n",
            "250/250 [==============================] - 0s 602us/step - loss: 0.3364 - accuracy: 0.8618\n",
            "Epoch 54/100\n",
            "250/250 [==============================] - 0s 601us/step - loss: 0.3362 - accuracy: 0.8626\n",
            "Epoch 55/100\n",
            "250/250 [==============================] - 0s 660us/step - loss: 0.3367 - accuracy: 0.8633\n",
            "Epoch 56/100\n",
            "250/250 [==============================] - 0s 635us/step - loss: 0.3366 - accuracy: 0.8631\n",
            "Epoch 57/100\n",
            "250/250 [==============================] - 0s 636us/step - loss: 0.3354 - accuracy: 0.8625\n",
            "Epoch 58/100\n",
            "250/250 [==============================] - 0s 620us/step - loss: 0.3360 - accuracy: 0.8635\n",
            "Epoch 59/100\n",
            "250/250 [==============================] - 0s 610us/step - loss: 0.3355 - accuracy: 0.8625\n",
            "Epoch 60/100\n",
            "250/250 [==============================] - 0s 604us/step - loss: 0.3357 - accuracy: 0.8621\n",
            "Epoch 61/100\n",
            "250/250 [==============================] - 0s 602us/step - loss: 0.3353 - accuracy: 0.8625\n",
            "Epoch 62/100\n",
            "250/250 [==============================] - 0s 583us/step - loss: 0.3358 - accuracy: 0.8643\n",
            "Epoch 63/100\n",
            "250/250 [==============================] - 0s 604us/step - loss: 0.3354 - accuracy: 0.8644\n",
            "Epoch 64/100\n",
            "250/250 [==============================] - 0s 648us/step - loss: 0.3350 - accuracy: 0.8635\n",
            "Epoch 65/100\n",
            "250/250 [==============================] - 0s 592us/step - loss: 0.3348 - accuracy: 0.8639\n",
            "Epoch 66/100\n",
            "250/250 [==============================] - 0s 592us/step - loss: 0.3346 - accuracy: 0.8624\n",
            "Epoch 67/100\n",
            "250/250 [==============================] - 0s 581us/step - loss: 0.3345 - accuracy: 0.8636\n",
            "Epoch 68/100\n",
            "250/250 [==============================] - 0s 591us/step - loss: 0.3349 - accuracy: 0.8639\n",
            "Epoch 69/100\n",
            "250/250 [==============================] - 0s 592us/step - loss: 0.3347 - accuracy: 0.8643\n",
            "Epoch 70/100\n",
            "250/250 [==============================] - 0s 592us/step - loss: 0.3341 - accuracy: 0.8649\n",
            "Epoch 71/100\n",
            "250/250 [==============================] - 0s 590us/step - loss: 0.3347 - accuracy: 0.8622\n",
            "Epoch 72/100\n",
            "250/250 [==============================] - 0s 696us/step - loss: 0.3346 - accuracy: 0.8648\n",
            "Epoch 73/100\n",
            "250/250 [==============================] - 0s 694us/step - loss: 0.3340 - accuracy: 0.8651\n",
            "Epoch 74/100\n",
            "250/250 [==============================] - 0s 675us/step - loss: 0.3341 - accuracy: 0.8631\n",
            "Epoch 75/100\n",
            "250/250 [==============================] - 0s 616us/step - loss: 0.3339 - accuracy: 0.8635\n",
            "Epoch 76/100\n",
            "250/250 [==============================] - 0s 651us/step - loss: 0.3339 - accuracy: 0.8646\n",
            "Epoch 77/100\n",
            "250/250 [==============================] - 0s 649us/step - loss: 0.3340 - accuracy: 0.8637\n",
            "Epoch 78/100\n",
            "250/250 [==============================] - 0s 597us/step - loss: 0.3340 - accuracy: 0.8626\n",
            "Epoch 79/100\n",
            "250/250 [==============================] - 0s 589us/step - loss: 0.3337 - accuracy: 0.8634\n",
            "Epoch 80/100\n",
            "250/250 [==============================] - 0s 999us/step - loss: 0.3338 - accuracy: 0.8655\n",
            "Epoch 81/100\n",
            "250/250 [==============================] - 0s 921us/step - loss: 0.3333 - accuracy: 0.8660\n",
            "Epoch 82/100\n",
            "250/250 [==============================] - 0s 587us/step - loss: 0.3333 - accuracy: 0.8656\n",
            "Epoch 83/100\n",
            "250/250 [==============================] - 0s 668us/step - loss: 0.3336 - accuracy: 0.8635\n",
            "Epoch 84/100\n",
            "250/250 [==============================] - 0s 701us/step - loss: 0.3333 - accuracy: 0.8656\n",
            "Epoch 85/100\n",
            "250/250 [==============================] - 0s 615us/step - loss: 0.3329 - accuracy: 0.8654\n",
            "Epoch 86/100\n",
            "250/250 [==============================] - 0s 726us/step - loss: 0.3332 - accuracy: 0.8649\n",
            "Epoch 87/100\n",
            "250/250 [==============================] - 0s 1ms/step - loss: 0.3331 - accuracy: 0.8650\n",
            "Epoch 88/100\n",
            "250/250 [==============================] - 0s 686us/step - loss: 0.3331 - accuracy: 0.8636\n",
            "Epoch 89/100\n",
            "250/250 [==============================] - 0s 596us/step - loss: 0.3328 - accuracy: 0.8652\n",
            "Epoch 90/100\n",
            "250/250 [==============================] - 0s 593us/step - loss: 0.3323 - accuracy: 0.8640\n",
            "Epoch 91/100\n",
            "250/250 [==============================] - 0s 604us/step - loss: 0.3329 - accuracy: 0.8641\n",
            "Epoch 92/100\n",
            "250/250 [==============================] - 0s 604us/step - loss: 0.3322 - accuracy: 0.8654\n",
            "Epoch 93/100\n",
            "250/250 [==============================] - 0s 598us/step - loss: 0.3329 - accuracy: 0.8630\n",
            "Epoch 94/100\n",
            "250/250 [==============================] - 0s 595us/step - loss: 0.3317 - accuracy: 0.8644\n",
            "Epoch 95/100\n",
            "250/250 [==============================] - 0s 609us/step - loss: 0.3325 - accuracy: 0.8631\n",
            "Epoch 96/100\n",
            "250/250 [==============================] - 0s 614us/step - loss: 0.3319 - accuracy: 0.8652\n",
            "Epoch 97/100\n",
            "250/250 [==============================] - 0s 585us/step - loss: 0.3320 - accuracy: 0.8651\n",
            "Epoch 98/100\n",
            "250/250 [==============================] - 0s 596us/step - loss: 0.3318 - accuracy: 0.8646\n",
            "Epoch 99/100\n",
            "250/250 [==============================] - 0s 1ms/step - loss: 0.3317 - accuracy: 0.8652\n",
            "Epoch 100/100\n",
            "250/250 [==============================] - 0s 653us/step - loss: 0.3318 - accuracy: 0.8662\n"
          ]
        },
        {
          "output_type": "execute_result",
          "data": {
            "text/plain": [
              "<tensorflow.python.keras.callbacks.History at 0x7ff55aaecaf0>"
            ]
          },
          "metadata": {},
          "execution_count": 43
        }
      ],
      "metadata": {
        "id": "nHZ-LKv_ZRb3",
        "colab_type": "code",
        "outputId": "718cc4b0-b5aa-40f0-9b20-d3d31730a531",
        "colab": {
          "base_uri": "https://localhost:8080/",
          "height": 1000
        }
      }
    },
    {
      "cell_type": "markdown",
      "source": [
        "## Part 4 - Making the predictions and evaluating the model"
      ],
      "metadata": {
        "id": "tJj5k2MxZga3",
        "colab_type": "text"
      }
    },
    {
      "cell_type": "markdown",
      "source": [
        "### Predicting the result of a single observation"
      ],
      "metadata": {
        "id": "84QFoqGYeXHL",
        "colab_type": "text"
      }
    },
    {
      "cell_type": "markdown",
      "source": [
        "**Homework**\n",
        "\n",
        "Use our ANN model to predict if the customer with the following informations will leave the bank: \n",
        "\n",
        "Geography: France\n",
        "\n",
        "Credit Score: 600\n",
        "\n",
        "Gender: Male\n",
        "\n",
        "Age: 40 years old\n",
        "\n",
        "Tenure: 3 years\n",
        "\n",
        "Balance: \\$ 60000\n",
        "\n",
        "Number of Products: 2\n",
        "\n",
        "Does this customer have a credit card ? Yes\n",
        "\n",
        "Is this customer an Active Member: Yes\n",
        "\n",
        "Estimated Salary: \\$ 50000\n",
        "\n",
        "So, should we say goodbye to that customer ?"
      ],
      "metadata": {
        "id": "CGRo3eacgDdC",
        "colab_type": "text"
      }
    },
    {
      "cell_type": "markdown",
      "source": [
        "**Solution**"
      ],
      "metadata": {
        "id": "ZhU1LTgPg-kH",
        "colab_type": "text"
      }
    },
    {
      "cell_type": "code",
      "execution_count": 44,
      "source": [
        "# print(ann.predict(sc.transform([[1, 0, 0, 600, 1, 40, 3, 60000, 2, 1, 1, 50000]])) > 0.5)\n",
        "ANN.predict (sc.transform( [[1,0,0, 600, 1, 40, 3, 60000, 2, 1 ,1 , 50000]]))"
      ],
      "outputs": [
        {
          "output_type": "execute_result",
          "data": {
            "text/plain": [
              "array([[0.03297064]], dtype=float32)"
            ]
          },
          "metadata": {},
          "execution_count": 44
        }
      ],
      "metadata": {
        "id": "2d8IoCCkeWGL",
        "colab_type": "code",
        "outputId": "957f3970-e197-4c3b-a150-7f69dc567f5d",
        "colab": {
          "base_uri": "https://localhost:8080/",
          "height": 34
        }
      }
    },
    {
      "cell_type": "markdown",
      "source": [
        "Therefore, our ANN model predicts that this customer stays in the bank!\n",
        "\n",
        "**Important note 1:** Notice that the values of the features were all input in a double pair of square brackets. That's because the \"predict\" method always expects a 2D array as the format of its inputs. And putting our values into a double pair of square brackets makes the input exactly a 2D array.\n",
        "\n",
        "**Important note 2:** Notice also that the \"France\" country was not input as a string in the last column but as \"1, 0, 0\" in the first three columns. That's because of course the predict method expects the one-hot-encoded values of the state, and as we see in the first row of the matrix of features X, \"France\" was encoded as \"1, 0, 0\". And be careful to include these values in the first three columns, because the dummy variables are always created in the first columns."
      ],
      "metadata": {
        "id": "wGjx94g2n7OV",
        "colab_type": "text"
      }
    },
    {
      "cell_type": "markdown",
      "source": [
        "### Predicting the Test set results"
      ],
      "metadata": {
        "id": "u7yx47jPZt11",
        "colab_type": "text"
      }
    },
    {
      "cell_type": "code",
      "execution_count": 46,
      "source": [
        "y_pred = .predict(X_test)\n",
        "y_pred = (y_pred > 0.5)\n",
        "print(np.concatenate((y_pred.reshape(len(y_pred),1), y_test.reshape(len(y_test),1)),1))"
      ],
      "outputs": [
        {
          "output_type": "stream",
          "name": "stdout",
          "text": [
            "[[0 0]\n",
            " [0 1]\n",
            " [0 0]\n",
            " ...\n",
            " [0 0]\n",
            " [0 0]\n",
            " [0 0]]\n"
          ]
        }
      ],
      "metadata": {
        "id": "nIyEeQdRZwgs",
        "colab_type": "code",
        "outputId": "82330ba8-9bdc-4fd1-d3cf-b6d78ee7c2a3",
        "colab": {
          "base_uri": "https://localhost:8080/",
          "height": 137
        }
      }
    },
    {
      "cell_type": "markdown",
      "source": [
        "### Making the Confusion Matrix"
      ],
      "metadata": {
        "id": "o0oyfLWoaEGw",
        "colab_type": "text"
      }
    },
    {
      "cell_type": "code",
      "execution_count": 48,
      "source": [
        "from sklearn.metrics import confusion_matrix, accuracy_score\n",
        "cm = confusion_matrix(y_test, y_pred)\n",
        "print(cm)\n",
        "accuracy_score(y_test, y_pred)"
      ],
      "outputs": [
        {
          "output_type": "stream",
          "name": "stdout",
          "text": [
            "[[1515   80]\n",
            " [ 206  199]]\n"
          ]
        },
        {
          "output_type": "execute_result",
          "data": {
            "text/plain": [
              "0.857"
            ]
          },
          "metadata": {},
          "execution_count": 48
        }
      ],
      "metadata": {
        "id": "ci6K_r6LaF6P",
        "colab_type": "code",
        "outputId": "4d854e9e-22d5-432f-f6e5-a102fe3ae0bd",
        "colab": {
          "base_uri": "https://localhost:8080/",
          "height": 68
        }
      }
    }
  ]
}